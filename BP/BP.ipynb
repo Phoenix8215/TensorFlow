{
 "cells": [
  {
   "cell_type": "markdown",
   "metadata": {},
   "source": [
    "# 用矩阵运算仿真BP神经网络"
   ]
  },
  {
   "cell_type": "code",
   "execution_count": 1,
   "metadata": {},
   "outputs": [
    {
     "name": "stderr",
     "output_type": "stream",
     "text": [
      "C:\\Users\\admin\\AppData\\Local\\conda\\conda\\envs\\tensorflow\\lib\\site-packages\\h5py\\__init__.py:36: FutureWarning: Conversion of the second argument of issubdtype from `float` to `np.floating` is deprecated. In future, it will be treated as `np.float64 == np.dtype(float).type`.\n",
      "  from ._conv import register_converters as _register_converters\n"
     ]
    }
   ],
   "source": [
    "import tensorflow as tf\n",
    "import numpy as np"
   ]
  },
  {
   "cell_type": "markdown",
   "metadata": {},
   "source": [
    "##### y= relu ( (X․W ) + b )"
   ]
  },
  {
   "cell_type": "code",
   "execution_count": 2,
   "metadata": {},
   "outputs": [
    {
     "name": "stdout",
     "output_type": "stream",
     "text": [
      "XWb:\n",
      "[[-0.35999998  0.28      ]]\n",
      "y:\n",
      "[[0.   0.28]]\n"
     ]
    }
   ],
   "source": [
    "X = tf.Variable([[0.4,0.2,0.4]])\n",
    "\n",
    "W = tf.Variable([[-0.5,-0.2 ],\n",
    "                 [-0.3, 0.4 ],\n",
    "                 [-0.5, 0.2 ]])\n",
    "                         \n",
    "b = tf.Variable([[0.1,0.2]])\n",
    "    \n",
    "XWb =tf.matmul(X,W)+b\n",
    "\n",
    "y=tf.nn.relu(tf.matmul(X,W)+b)#引用ReLU激活函数\n",
    "\n",
    "with tf.Session() as sess:\n",
    "    init = tf.global_variables_initializer()\n",
    "    sess.run(init)\n",
    "    print('XWb:')    \n",
    "    print(sess.run(XWb ))    \n",
    "    print('y:')    \n",
    "    print(sess.run(y ))"
   ]
  },
  {
   "cell_type": "markdown",
   "metadata": {},
   "source": [
    "##### y= sigmoid ( (X․W ) + b )"
   ]
  },
  {
   "cell_type": "code",
   "execution_count": 3,
   "metadata": {},
   "outputs": [
    {
     "name": "stdout",
     "output_type": "stream",
     "text": [
      "XWb:\n",
      "[[-0.35999998  0.28      ]]\n",
      "y:\n",
      "[[0.41095957 0.5695462 ]]\n"
     ]
    }
   ],
   "source": [
    "X = tf.Variable([[0.4,0.2,0.4]])\n",
    "\n",
    "W = tf.Variable([[-0.5,-0.2 ],\n",
    "                 [-0.3, 0.4 ],\n",
    "                 [-0.5, 0.2 ]])\n",
    "\n",
    "b = tf.Variable([[0.1,0.2]])\n",
    "\n",
    "XWb=tf.matmul(X,W)+b\n",
    "\n",
    "y=tf.nn.sigmoid(tf.matmul(X,W)+b)\n",
    "\n",
    "with tf.Session() as sess:\n",
    "    init = tf.global_variables_initializer()\n",
    "    sess.run(init)\n",
    "    print('XWb:')    \n",
    "    print(sess.run(XWb))    \n",
    "    print('y:')    \n",
    "    print(sess.run(y ))"
   ]
  },
  {
   "cell_type": "markdown",
   "metadata": {
    "collapsed": true
   },
   "source": [
    "# 以随机数产生Weight(W)与bais(b) "
   ]
  },
  {
   "cell_type": "code",
   "execution_count": 4,
   "metadata": {},
   "outputs": [
    {
     "name": "stdout",
     "output_type": "stream",
     "text": [
      "b:\n",
      "[[-0.1278446   0.15272076]]\n",
      "W:\n",
      "[[ 0.09724175 -0.70408934]\n",
      " [ 1.4106061  -0.39071304]\n",
      " [-0.74939483 -0.36333686]]\n",
      "y:\n",
      "[[0. 0.]]\n"
     ]
    }
   ],
   "source": [
    "W = tf.Variable(tf.random_normal([3, 2]))\n",
    "b = tf.Variable(tf.random_normal([1, 2]))\n",
    "X = tf.Variable([[0.4,0.2,0.4]])\n",
    "y=tf.nn.relu(tf.matmul(X,W)+b)\n",
    "with tf.Session() as sess:\n",
    "    init = tf.global_variables_initializer()\n",
    "    sess.run(init)\n",
    "    print('b:')\n",
    "    print(sess.run(b ))    \n",
    "    print('W:')\n",
    "    print(sess.run(W ))\n",
    "    print('y:')\n",
    "    print(sess.run(y ))    "
   ]
  },
  {
   "cell_type": "code",
   "execution_count": 5,
   "metadata": {},
   "outputs": [
    {
     "name": "stdout",
     "output_type": "stream",
     "text": [
      "b:\n",
      "[[-0.5877543  2.1299696]]\n",
      "W:\n",
      "[[ 1.0390263   0.5285081 ]\n",
      " [-0.92886233 -0.5300881 ]\n",
      " [ 0.4078475   0.684533  ]]\n",
      "y:\n",
      "[[0.        2.5091684]]\n"
     ]
    }
   ],
   "source": [
    "W = tf.Variable(tf.random_normal([3, 2]))\n",
    "b = tf.Variable(tf.random_normal([1, 2]))\n",
    "X = tf.Variable([[0.4,0.2,0.4]])\n",
    "y=tf.nn.relu(tf.matmul(X,W)+b)\n",
    "with tf.Session() as sess:\n",
    "    init = tf.global_variables_initializer()\n",
    "    sess.run(init)\n",
    "    (_b,_W,_y)=sess.run((b,W,y))#等价于三次se\n",
    "    print('b:')\n",
    "    print(_b)\n",
    "    print('W:')\n",
    "    print(_W)\n",
    "    print('y:')\n",
    "    print(_y)   "
   ]
  },
  {
   "cell_type": "markdown",
   "metadata": {},
   "source": [
    "##### placeholder"
   ]
  },
  {
   "cell_type": "code",
   "execution_count": 6,
   "metadata": {},
   "outputs": [
    {
     "name": "stdout",
     "output_type": "stream",
     "text": [
      "b:\n",
      "[[-1.00988698 -0.90781182]]\n",
      "W:\n",
      "[[ 0.77819425  0.74534345]\n",
      " [ 0.62385881 -0.30757746]\n",
      " [ 0.84864932  1.10149086]]\n",
      "X:\n",
      "[[ 0.40000001  0.2         0.40000001]]\n",
      "y:\n",
      "[[ 0.  0.]]\n"
     ]
    }
   ],
   "source": [
    "W = tf.Variable(tf.random_normal([3, 2]))\n",
    "b = tf.Variable(tf.random_normal([1, 2]))\n",
    "X = tf.placeholder(\"float\", [None,3])\n",
    "y=tf.nn.relu(tf.matmul(X,W)+b)\n",
    "with tf.Session() as sess:\n",
    "    init = tf.global_variables_initializer()\n",
    "    sess.run(init)\n",
    "    X_array = np.array([[0.4,0.2,0.4]])\n",
    "    (_b,_W,_X,_y)=sess.run((b,W,X,y),feed_dict={X:X_array})\n",
    "    print('b:')\n",
    "    print(_b)    \n",
    "    print('W:')\n",
    "    print(_W)\n",
    "    print('X:')\n",
    "    print(_X)\n",
    "    print('y:')\n",
    "    print(_y)"
   ]
  },
  {
   "cell_type": "code",
   "execution_count": 7,
   "metadata": {},
   "outputs": [
    {
     "data": {
      "text/plain": [
       "(1, 2)"
      ]
     },
     "execution_count": 7,
     "metadata": {},
     "output_type": "execute_result"
    }
   ],
   "source": [
    "_y.shape"
   ]
  },
  {
   "cell_type": "code",
   "execution_count": 8,
   "metadata": {},
   "outputs": [
    {
     "name": "stdout",
     "output_type": "stream",
     "text": [
      "1000\n",
      "[-0.62594283 -1.53080451  0.20968008  0.48862299 -0.98033726  1.56872106\n",
      "  0.34392843 -0.32248533 -1.38410163 -0.8074798   0.06213726  0.41173849\n",
      " -0.79638833  0.07239912 -1.5461148  -1.4486984   0.5450505   0.37378398\n",
      " -0.23069905 -0.26489291 -1.30195487 -0.18677172  0.50207907 -1.00787842\n",
      "  0.56418502  0.51869804 -1.74017227 -2.36948991  0.98451078  0.93969965]\n"
     ]
    }
   ],
   "source": [
    "ts_norm = tf.random_normal([1000])\n",
    "with tf.Session() as session:\n",
    "    norm_data=ts_norm.eval()\n",
    "print(len(norm_data))\n",
    "print(norm_data[:30])"
   ]
  },
  {
   "cell_type": "code",
   "execution_count": 10,
   "metadata": {},
   "outputs": [
    {
     "data": {
      "image/png": "[encoded data removed]",
      "text/plain": [
       "<Figure size 432x288 with 1 Axes>"
      ]
     },
     "metadata": {},
     "output_type": "display_data"
    }
   ],
   "source": [
    "import matplotlib.pyplot as plt\n",
    "plt.hist(norm_data)\n",
    "plt.show()    "
   ]
  },
  {
   "cell_type": "code",
   "execution_count": 11,
   "metadata": {},
   "outputs": [
    {
     "name": "stdout",
     "output_type": "stream",
     "text": [
      "b:\n",
      "[[ 1.3742691 -0.6307982]]\n",
      "W:\n",
      "[[-0.25237647  0.28716296]\n",
      " [-0.24805067 -0.40259644]\n",
      " [ 1.6787063  -1.9441847 ]]\n",
      "X:\n",
      "[[ 0.4  0.2  0.4]\n",
      " [ 0.3  0.4  0.5]\n",
      " [ 0.3 -0.4  0.5]]\n",
      "y:\n",
      "[[0.86934626 0.20195402]\n",
      " [0.88479966 0.15738963]\n",
      " [0.90353453 0.20493953]]\n"
     ]
    }
   ],
   "source": [
    "W = tf.Variable(tf.random_normal([3, 2]))\n",
    "b = tf.Variable(tf.random_normal([1, 2]))\n",
    "X = tf.placeholder(\"float\", [None,3])\n",
    "y=tf.nn.sigmoid(tf.matmul(X,W)+b)\n",
    "with tf.Session() as sess:\n",
    "    init = tf.global_variables_initializer()\n",
    "    sess.run(init)\n",
    "    X_array = np.array([[0.4,0.2 ,0.4],\n",
    "                        [0.3,0.4 ,0.5],\n",
    "                        [0.3,-0.4,0.5]])    \n",
    "    (_b,_W,_X,_y)=sess.run((b,W,X,y),feed_dict={X:X_array})\n",
    "    print('b:')\n",
    "    print(_b)    \n",
    "    print('W:')\n",
    "    print(_W)\n",
    "    print('X:')\n",
    "    print(_X)\n",
    "    print('y:')\n",
    "    print(_y)"
   ]
  },
  {
   "cell_type": "markdown",
   "metadata": {},
   "source": [
    "# 建立layer函数\n",
    "> 功能是建立两层神经网络"
   ]
  },
  {
   "cell_type": "code",
   "execution_count": 12,
   "metadata": {},
   "outputs": [],
   "source": [
    "def layer(output_dim,input_dim,inputs, activation=None):\n",
    "    W = tf.Variable(tf.random_normal([input_dim, output_dim]))\n",
    "    b = tf.Variable(tf.random_normal([1, output_dim]))\n",
    "    XWb = tf.matmul(inputs, W) + b\n",
    "    if activation is None:\n",
    "        outputs = XWb\n",
    "    else:\n",
    "        outputs = activation(XWb)\n",
    "    return outputs"
   ]
  },
  {
   "cell_type": "code",
   "execution_count": 13,
   "metadata": {},
   "outputs": [
    {
     "name": "stdout",
     "output_type": "stream",
     "text": [
      "X:\n",
      "[[ 0.4  0.2  0.4  0.1]\n",
      " [ 0.3  0.4  0.5  0.3]\n",
      " [ 0.3 -0.4  0.5  0.2]]\n",
      "y:\n",
      "[[0.         0.79015875 1.5285197 ]\n",
      " [0.31821787 1.2630901  1.1021228 ]\n",
      " [0.48398763 0.33778787 1.7573613 ]]\n"
     ]
    }
   ],
   "source": [
    "X = tf.placeholder(\"float\", [None,4])\n",
    "\n",
    "y=layer(output_dim=3,input_dim=4,inputs=X,\n",
    "        activation=tf.nn.relu)\n",
    "\n",
    "with tf.Session() as sess:\n",
    "    init = tf.global_variables_initializer()\n",
    "    sess.run(init)\n",
    "    X_array = np.array([[0.4,0.2 ,0.4,0.1],\n",
    "                        [0.3,0.4 ,0.5,0.3],\n",
    "                        [0.3,-0.4,0.5,0.2]])    \n",
    "    (_X,_y)=sess.run((X,y),feed_dict={X:X_array})\n",
    "    print('X:')\n",
    "    print(_X)\n",
    "    print('y:')\n",
    "    print(_y)    "
   ]
  },
  {
   "cell_type": "code",
   "execution_count": 14,
   "metadata": {},
   "outputs": [
    {
     "name": "stdout",
     "output_type": "stream",
     "text": [
      "input Layer X:\n",
      "[[0.4 0.2 0.4 0.5]]\n",
      "hidden Layer h:\n",
      "[[1.5489424  0.         0.63559824]]\n",
      "output Layer y:\n",
      "[[3.4448848  0.05538869]]\n"
     ]
    }
   ],
   "source": [
    "X = tf.placeholder(\"float\", [None,4])\n",
    "h=layer(output_dim=3,input_dim=4,inputs=X,\n",
    "        activation=tf.nn.relu)\n",
    "y=layer(output_dim=2,input_dim=3,inputs=h)\n",
    "with tf.Session() as sess:\n",
    "    init = tf.global_variables_initializer()\n",
    "    sess.run(init)\n",
    "    X_array = np.array([[0.4,0.2 ,0.4,0.5]])    \n",
    "    (layer_X,layer_h,layer_y)= \\\n",
    "            sess.run((X,h,y),feed_dict={X:X_array})\n",
    "    print('input Layer X:')\n",
    "    print(layer_X)\n",
    "    print('hidden Layer h:')\n",
    "    print(layer_h)\n",
    "    print('output Layer y:')\n",
    "    print(layer_y)"
   ]
  },
  {
   "cell_type": "markdown",
   "metadata": {},
   "source": [
    "# 改进layer函数，使其能返回w和b"
   ]
  },
  {
   "cell_type": "code",
   "execution_count": 15,
   "metadata": {},
   "outputs": [],
   "source": [
    "def layer_2(output_dim,input_dim,inputs, activation=None):\n",
    "    W = tf.Variable(tf.random_normal([input_dim, output_dim]))\n",
    "    b = tf.Variable(tf.random_normal([1, output_dim]))\n",
    "    XWb = tf.matmul(inputs, W) + b\n",
    "    if activation is None:\n",
    "        outputs = XWb\n",
    "    else:\n",
    "        outputs = activation(XWb)\n",
    "    return outputs,W,b"
   ]
  },
  {
   "cell_type": "code",
   "execution_count": 16,
   "metadata": {},
   "outputs": [
    {
     "name": "stdout",
     "output_type": "stream",
     "text": [
      "input Layer X:\n",
      "[[0.4 0.2 0.4 0.5]]\n",
      "W1:\n",
      "[[-2.494698    0.10329538 -0.5353932 ]\n",
      " [-1.022263   -1.1610479  -3.0859344 ]\n",
      " [ 1.9652166   0.3464464   1.2346822 ]\n",
      " [-1.0058508  -0.81840676 -0.9512821 ]]\n",
      "b1:\n",
      "[[ 0.1718771   0.93178105 -1.4650283 ]]\n",
      "hidden Layer h:\n",
      "[[0.        0.4702648 0.       ]]\n",
      "W2:\n",
      "[[ 0.80631006  1.5261457 ]\n",
      " [ 0.24046504 -0.08329547]\n",
      " [ 0.2570049   0.40859744]]\n",
      "b2:\n",
      "[[-0.16517083  0.45186767]]\n",
      "output Layer y:\n",
      "[[-0.05208859  0.41269675]]\n"
     ]
    }
   ],
   "source": [
    "X = tf.placeholder(\"float\", [None,4])\n",
    "h,W1,b1=layer_debug(output_dim=3,input_dim=4,inputs=X,\n",
    "                    activation=tf.nn.relu)\n",
    "y,W2,b2=layer_debug(output_dim=2,input_dim=3,inputs=h)\n",
    "with tf.Session() as sess:\n",
    "    init = tf.global_variables_initializer()\n",
    "    sess.run(init)\n",
    "    X_array = np.array([[0.4,0.2 ,0.4,0.5]])    \n",
    "    (layer_X,layer_h,layer_y,W1,b1,W2,b2)= \\\n",
    "             sess.run((X,h,y,W1,b1,W2,b2),feed_dict={X:X_array})\n",
    "    print('input Layer X:')\n",
    "    print(layer_X)\n",
    "    print('W1:')\n",
    "    print(  W1)    \n",
    "    print('b1:')\n",
    "    print(  b1)    \n",
    "    print('hidden Layer h:')\n",
    "    print(layer_h)    \n",
    "    print('W2:')\n",
    "    print(  W2)    \n",
    "    print('b2:')\n",
    "    print(  b2)    \n",
    "    print('output Layer y:')\n",
    "    print(layer_y)"
   ]
  }
 ],
 "metadata": {
  "anaconda-cloud": {},
  "kernelspec": {
   "display_name": "Python 3",
   "language": "python",
   "name": "python3"
  },
  "language_info": {
   "codemirror_mode": {
    "name": "ipython",
    "version": 3
   },
   "file_extension": ".py",
   "mimetype": "text/x-python",
   "name": "python",
   "nbconvert_exporter": "python",
   "pygments_lexer": "ipython3",
   "version": "3.5.5"
  }
 },
 "nbformat": 4,
 "nbformat_minor": 1
}
